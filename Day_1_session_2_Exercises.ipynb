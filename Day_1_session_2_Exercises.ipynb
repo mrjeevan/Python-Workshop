{
  "nbformat": 4,
  "nbformat_minor": 0,
  "metadata": {
    "colab": {
      "name": "Day_1_session_2_Exercises",
      "provenance": [],
      "authorship_tag": "ABX9TyMomn3amldtC8b6qPSSFyMc",
      "include_colab_link": true
    },
    "kernelspec": {
      "name": "python3",
      "display_name": "Python 3"
    }
  },
  "cells": [
    {
      "cell_type": "markdown",
      "metadata": {
        "id": "view-in-github",
        "colab_type": "text"
      },
      "source": [
        "<a href=\"https://colab.research.google.com/github/mrjeevan/Python-Workshop/blob/master/Day_1_session_2_Exercises.ipynb\" target=\"_parent\"><img src=\"https://colab.research.google.com/assets/colab-badge.svg\" alt=\"Open In Colab\"/></a>"
      ]
    },
    {
      "cell_type": "code",
      "metadata": {
        "id": "FdSthpRAJVFr",
        "colab_type": "code",
        "colab": {
          "base_uri": "https://localhost:8080/",
          "height": 85
        },
        "outputId": "d1eac6f5-cd16-4f99-e0ac-ea89d652bc32"
      },
      "source": [
        "rows = 4\n",
        "for i in range(0, rows):\n",
        "    for j in range(0, i + 1):\n",
        "        print(\"*\", end=' ')\n",
        "\n",
        "    print(\"\\r\")\n"
      ],
      "execution_count": 1,
      "outputs": [
        {
          "output_type": "stream",
          "text": [
            "* \r\n",
            "* * \r\n",
            "* * * \r\n",
            "* * * * \r\n"
          ],
          "name": "stdout"
        }
      ]
    },
    {
      "cell_type": "code",
      "metadata": {
        "id": "pvo5VP3pJZ3_",
        "colab_type": "code",
        "colab": {
          "base_uri": "https://localhost:8080/",
          "height": 119
        },
        "outputId": "ce14e1c6-00f9-49a3-c6b5-b05f134e5e35"
      },
      "source": [
        "rows = 5\n",
        "for i in range(0, rows + 1):\n",
        "    for j in range(rows - i, 0, -1):\n",
        "        print(j, end=' ')\n",
        "    print()"
      ],
      "execution_count": 2,
      "outputs": [
        {
          "output_type": "stream",
          "text": [
            "5 4 3 2 1 \n",
            "4 3 2 1 \n",
            "3 2 1 \n",
            "2 1 \n",
            "1 \n",
            "\n"
          ],
          "name": "stdout"
        }
      ]
    },
    {
      "cell_type": "code",
      "metadata": {
        "id": "_Qor7a4DJank",
        "colab_type": "code",
        "colab": {
          "base_uri": "https://localhost:8080/",
          "height": 68
        },
        "outputId": "8b190ee4-6e26-482d-dee0-4eaac03d9bbc"
      },
      "source": [
        "currentNumber = 1\n",
        "stop = 2\n",
        "rows = 3  # Rows you want in your pattern\n",
        "\n",
        "for i in range(rows):\n",
        "    for column in range(1, stop):\n",
        "        print(currentNumber, end=' ')\n",
        "        currentNumber += 1\n",
        "    print(\"\")\n",
        "    stop += 2\n",
        "    "
      ],
      "execution_count": 3,
      "outputs": [
        {
          "output_type": "stream",
          "text": [
            "1 \n",
            "2 3 4 \n",
            "5 6 7 8 9 \n"
          ],
          "name": "stdout"
        }
      ]
    },
    {
      "cell_type": "code",
      "metadata": {
        "id": "OnI9qGNHJclz",
        "colab_type": "code",
        "colab": {
          "base_uri": "https://localhost:8080/",
          "height": 51
        },
        "outputId": "4e3b0e68-8174-4f07-b2cb-73746e7147c7"
      },
      "source": [
        "# User inputs the string and it gets stored in variable str\n",
        "str = input(\"Enter a string: \")\n",
        "\n",
        "# counter variable to count the character in a string\n",
        "counter = 0\n",
        "for s in str:\n",
        "      counter = counter+1\n",
        "print(\"Length of the input string is:\", counter)"
      ],
      "execution_count": 4,
      "outputs": [
        {
          "output_type": "stream",
          "text": [
            "Enter a string: all was well\n",
            "Length of the input string is: 12\n"
          ],
          "name": "stdout"
        }
      ]
    },
    {
      "cell_type": "code",
      "metadata": {
        "id": "weuv7M2pJetc",
        "colab_type": "code",
        "colab": {
          "base_uri": "https://localhost:8080/",
          "height": 68
        },
        "outputId": "c38fe04a-ca91-4def-ce43-3fa06c6366c6"
      },
      "source": [
        "word_count = 0\n",
        "char_count = 0\n",
        "\n",
        "usr_input = input(\"Enter a string : \")\n",
        "\n",
        "split_string = usr_input.split()\n",
        "\n",
        "word_count = len(split_string)\n",
        "\n",
        "for word in split_string:\n",
        "    \n",
        "    char_count += len(word)\n",
        "\n",
        "\n",
        "print(\"Total words : {}\".format(word_count))\n",
        "print(\"Total characters : {}\".format(char_count))\n"
      ],
      "execution_count": 5,
      "outputs": [
        {
          "output_type": "stream",
          "text": [
            "Enter a string : all was well\n",
            "Total words : 3\n",
            "Total characters : 10\n"
          ],
          "name": "stdout"
        }
      ]
    },
    {
      "cell_type": "code",
      "metadata": {
        "id": "_Mhts5ntJnNm",
        "colab_type": "code",
        "colab": {
          "base_uri": "https://localhost:8080/",
          "height": 34
        },
        "outputId": "21e54da4-b7fc-4655-8c62-fb134a221550"
      },
      "source": [
        "def word_count(str):\n",
        "    counts = dict()\n",
        "    words = str.split()\n",
        "\n",
        "    for word in words:\n",
        "        if word in counts:\n",
        "            counts[word] += 1\n",
        "        else:\n",
        "            counts[word] = 1\n",
        "\n",
        "    return counts\n",
        "\n",
        "print( word_count('python workshop for four days'))"
      ],
      "execution_count": 6,
      "outputs": [
        {
          "output_type": "stream",
          "text": [
            "{'python': 1, 'workshop': 1, 'for': 1, 'four': 1, 'days': 1}\n"
          ],
          "name": "stdout"
        }
      ]
    },
    {
      "cell_type": "code",
      "metadata": {
        "id": "SLZrbL0NJnxj",
        "colab_type": "code",
        "colab": {}
      },
      "source": [
        ""
      ],
      "execution_count": null,
      "outputs": []
    }
  ]
}