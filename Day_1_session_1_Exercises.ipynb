{
  "nbformat": 4,
  "nbformat_minor": 0,
  "metadata": {
    "colab": {
      "name": "Day_1_session_1_Exercises",
      "provenance": [],
      "authorship_tag": "ABX9TyNDus4Eup8V8TFNCmsuEsy4",
      "include_colab_link": true
    },
    "kernelspec": {
      "name": "python3",
      "display_name": "Python 3"
    }
  },
  "cells": [
    {
      "cell_type": "markdown",
      "metadata": {
        "id": "view-in-github",
        "colab_type": "text"
      },
      "source": [
        "<a href=\"https://colab.research.google.com/github/mrjeevan/Python-Workshop/blob/master/Day_1_session_1_Exercises.ipynb\" target=\"_parent\"><img src=\"https://colab.research.google.com/assets/colab-badge.svg\" alt=\"Open In Colab\"/></a>"
      ]
    },
    {
      "cell_type": "code",
      "metadata": {
        "id": "skZca3rYE1UZ",
        "colab_type": "code",
        "colab": {
          "base_uri": "https://localhost:8080/",
          "height": 136
        },
        "outputId": "db29abcb-378b-45ea-9f24-b3e316366d6b"
      },
      "source": [
        "p = float(input(\"Enter the principle amount : \"))\n",
        "r = float(input(\"Enter the rate of interest : \"))\n",
        "t = float(input(\"Enter the time in the years: \"))\n",
        "\n",
        "# calculating compound interest\n",
        "ci =  p * (pow((1 + r / 100), t)) \n",
        "\n",
        "# printing the values\n",
        "print(\"Principle amount  : \", p)\n",
        "print(\"Interest rate     : \", r)\n",
        "print(\"Time in years     : \", t)\n",
        "print(\"compound Interest : \", ci)\n"
      ],
      "execution_count": 1,
      "outputs": [
        {
          "output_type": "stream",
          "text": [
            "Enter the principle amount : 2000\n",
            "Enter the rate of interest : 5\n",
            "Enter the time in the years: 3\n",
            "Principle amount  :  2000.0\n",
            "Interest rate     :  5.0\n",
            "Time in years     :  3.0\n",
            "compound Interest :  2315.2500000000005\n"
          ],
          "name": "stdout"
        }
      ]
    },
    {
      "cell_type": "code",
      "metadata": {
        "id": "oKuhg5-GE43X",
        "colab_type": "code",
        "colab": {
          "base_uri": "https://localhost:8080/",
          "height": 51
        },
        "outputId": "4f98f7e6-9321-49a5-c1e7-88afaa55a44a"
      },
      "source": [
        "celsius = float(input(\"Enter temperature in celsius: \"))\n",
        "fahrenheit = (celsius * 9/5) + 32\n",
        "print('%.2f Celsius is: %0.2f Fahrenheit' %(celsius, fahrenheit))\n"
      ],
      "execution_count": 2,
      "outputs": [
        {
          "output_type": "stream",
          "text": [
            "Enter temperature in celsius: 80\n",
            "80.00 Celsius is: 176.00 Fahrenheit\n"
          ],
          "name": "stdout"
        }
      ]
    },
    {
      "cell_type": "code",
      "metadata": {
        "id": "CMQ3KxeCFAKP",
        "colab_type": "code",
        "colab": {
          "base_uri": "https://localhost:8080/",
          "height": 68
        },
        "outputId": "9afac995-4a48-4179-bff6-eed8096b420d"
      },
      "source": [
        "# Python Program to find Largest of two Numbers using if-else statements\n",
        "a = int(input(\"Enter the first number: \"))\n",
        "b = int(input(\"Enter the second number: \"))\n",
        "if(a >= b):\n",
        "  print(a, \"is greater\")\n",
        "else:\n",
        "  print(b, \"is greater\")"
      ],
      "execution_count": 3,
      "outputs": [
        {
          "output_type": "stream",
          "text": [
            "Enter the first number: 300\n",
            "Enter the second number: 20\n",
            "300 is greater\n"
          ],
          "name": "stdout"
        }
      ]
    },
    {
      "cell_type": "code",
      "metadata": {
        "id": "cde__lI-FFqJ",
        "colab_type": "code",
        "colab": {
          "base_uri": "https://localhost:8080/",
          "height": 102
        },
        "outputId": "4659eb42-6a4d-4632-8d1c-bb56f14bf042"
      },
      "source": [
        "import math \n",
        "pi = math.pi \n",
        "  \n",
        "# Function to calculate Volume of Cone \n",
        "def surfacearea (r, h):\n",
        "    return 2 * PI * r * r * h\n",
        "def surfacearea (r, s):\n",
        "    return pi * r * s + pi * r * r \n",
        "  \n",
        "\n",
        "radius = int(input(\"enter the radius\"))\n",
        "height = float(input(\"enter the height\")) \n",
        "slat_height =float(input(\"enter the slatheight\"))  \n",
        "print( \"surface area of cylinder :\", surfacearea(radius, height) ) \n",
        "print( \"Surface Area Of Cone : \", surfacearea(radius, slat_height) ) \n",
        "\n"
      ],
      "execution_count": 4,
      "outputs": [
        {
          "output_type": "stream",
          "text": [
            "enter the radius20\n",
            "enter the height40\n",
            "enter the slatheight50\n",
            "surface area of cylinder : 3769.9111843077517\n",
            "Surface Area Of Cone :  4398.22971502571\n"
          ],
          "name": "stdout"
        }
      ]
    },
    {
      "cell_type": "code",
      "metadata": {
        "id": "pzZ5201JFNY6",
        "colab_type": "code",
        "colab": {}
      },
      "source": [
        ""
      ],
      "execution_count": null,
      "outputs": []
    }
  ]
}