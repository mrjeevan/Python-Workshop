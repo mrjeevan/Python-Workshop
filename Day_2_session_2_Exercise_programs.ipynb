{
  "nbformat": 4,
  "nbformat_minor": 0,
  "metadata": {
    "colab": {
      "name": "Day 2 session 2 Exercise programs_tuples",
      "provenance": [],
      "collapsed_sections": [],
      "authorship_tag": "ABX9TyM7yTH9uAf9iVyCCvOTwA5s",
      "include_colab_link": true
    },
    "kernelspec": {
      "name": "python3",
      "display_name": "Python 3"
    }
  },
  "cells": [
    {
      "cell_type": "markdown",
      "metadata": {
        "id": "view-in-github",
        "colab_type": "text"
      },
      "source": [
        "<a href=\"https://colab.research.google.com/github/mrjeevan/Python-Workshop/blob/master/Day_2_session_2_Exercise_programs.ipynb\" target=\"_parent\"><img src=\"https://colab.research.google.com/assets/colab-badge.svg\" alt=\"Open In Colab\"/></a>"
      ]
    },
    {
      "cell_type": "markdown",
      "metadata": {
        "id": "GfJWuGdIUfge",
        "colab_type": "text"
      },
      "source": [
        "Add rollno and marks {name:mark} for n number of students through keyboard in a dictionary and print the marks in descending order with respective name."
      ]
    },
    {
      "cell_type": "code",
      "metadata": {
        "id": "DaKBx09nUkvc",
        "colab_type": "code",
        "colab": {
          "base_uri": "https://localhost:8080/",
          "height": 391
        },
        "outputId": "b5b1602a-0920-4ca2-a501-a102d3fd4e89"
      },
      "source": [
        "def inp():\n",
        "  name = input('Enter Name : ')\n",
        "  marks = input('Enter Marks : ')\n",
        "  rolno = input('Enter RolNo :')\n",
        "  return (name,marks,rolno)\n",
        "\n",
        "d = {}\n",
        "n = int(input('Enter No of Students : '))\n",
        "for x in range(n):\n",
        "  n,m,r = inp()\n",
        "  d[n] = m\n",
        "\n",
        "keys = sorted(d.keys())\n",
        "# print(keys)\n",
        "\n",
        "for key in keys:\n",
        "  print(d[key])\n",
        "\n"
      ],
      "execution_count": null,
      "outputs": [
        {
          "output_type": "stream",
          "text": [
            "Enter No of Students : 5\n",
            "Enter Name : n1\n",
            "Enter Marks : 70\n",
            "Enter RolNo :21\n",
            "Enter Name : n2\n",
            "Enter Marks : 75\n",
            "Enter RolNo :22\n",
            "Enter Name : n3\n",
            "Enter Marks : 80\n",
            "Enter RolNo :23\n",
            "Enter Name : n4\n",
            "Enter Marks : 85\n",
            "Enter RolNo :24\n",
            "Enter Name : n5\n",
            "Enter Marks : 90\n",
            "Enter RolNo :25\n",
            "['n1', 'n2', 'n3', 'n4', 'n5']\n",
            "70\n",
            "75\n",
            "80\n",
            "85\n",
            "90\n"
          ],
          "name": "stdout"
        }
      ]
    },
    {
      "cell_type": "markdown",
      "metadata": {
        "id": "m_YMnQO-UlKL",
        "colab_type": "text"
      },
      "source": [
        "Add  name and salary {name:salary} for n number of employees through keyboard in a dictionary and print them in name alphabetical order with salary"
      ]
    },
    {
      "cell_type": "code",
      "metadata": {
        "id": "F0Q7S6F_Uq5z",
        "colab_type": "code",
        "colab": {
          "base_uri": "https://localhost:8080/",
          "height": 289
        },
        "outputId": "3acc7a15-6dc9-46c4-f4b0-dd18d420c0de"
      },
      "source": [
        "def inp():\n",
        "  name = input('Enter Name : ')\n",
        "  salary = int(input('Enter Salary : '))\n",
        "  \n",
        "  return (name,salary)\n",
        "\n",
        "d = {}\n",
        "n = int(input('Enter No of Employees : '))\n",
        "for x in range(n):\n",
        "  n,s = inp()\n",
        "  d[n] = s\n",
        "\n",
        "keys = sorted(d.keys())\n",
        "# print(keys)\n",
        "\n",
        "for key in keys:\n",
        "  print(f'{key} : {d[key]}')\n",
        "\n"
      ],
      "execution_count": null,
      "outputs": [
        {
          "output_type": "stream",
          "text": [
            "Enter No of Employees : 5\n",
            "Enter Name : a\n",
            "Enter Salary : 5000\n",
            "Enter Name : b\n",
            "Enter Salary : 6000\n",
            "Enter Name : c\n",
            "Enter Salary : 7000\n",
            "Enter Name : d\n",
            "Enter Salary : 8000\n",
            "Enter Name : e\n",
            "Enter Salary : 9000\n",
            "a : 5000\n",
            "b : 6000\n",
            "c : 7000\n",
            "d : 8000\n",
            "e : 9000\n"
          ],
          "name": "stdout"
        }
      ]
    },
    {
      "cell_type": "markdown",
      "metadata": {
        "id": "ik5y_4WxUrKk",
        "colab_type": "text"
      },
      "source": [
        "Add  name and salary {name:salary} for n number of employees through keyboard in a dictionary and print them in salary  ascending order and  sum, max, min and average of the salaries"
      ]
    },
    {
      "cell_type": "code",
      "metadata": {
        "id": "f3DYun9GUuVV",
        "colab_type": "code",
        "colab": {
          "base_uri": "https://localhost:8080/",
          "height": 255
        },
        "outputId": "c20acfdd-faf0-4c97-f02b-05b76784b2d1"
      },
      "source": [
        "def inp():\n",
        "  name = input('Enter Name : ')\n",
        "  salary = int(input('Enter Salary : '))\n",
        "  \n",
        "  return (name,salary)\n",
        "\n",
        "d = {}\n",
        "n = int(input('Enter No of Employees : '))\n",
        "for x in range(n):\n",
        "  n,s = inp()\n",
        "  d[n] = s\n",
        "\n",
        "keys = sorted(d.keys())\n",
        "\n",
        "print('Assending Order : ')\n",
        "\n",
        "for key in keys:\n",
        "  print(f'{key} : {d[key]}')\n",
        "\n",
        "\n",
        "print(f'Sum of all Salaries : {sum(list(d.values()))}')\n",
        "print(f'Max Salary : {max(list(d.values()))} \\t\\t Min Salary {min(list(d.values()))}')\n",
        "print(f'Avrage Salary {sum(list(d.values()))/len(list(d.keys()))}')\n"
      ],
      "execution_count": null,
      "outputs": [
        {
          "output_type": "stream",
          "text": [
            "Enter No of Employees : 3\n",
            "Enter Name : emp5\n",
            "Enter Salary : 7000\n",
            "Enter Name : emp3\n",
            "Enter Salary : 7500\n",
            "Enter Name : emp400\n",
            "Enter Salary : 8940399999\n",
            "Assending Order : \n",
            "emp3 : 7500\n",
            "emp400 : 8940399999\n",
            "emp5 : 7000\n",
            "Sum of all Salaries : 8940414499\n",
            "Max Salary : 8940399999 \t\t Min Salary 7000\n",
            "Avrage Salary 2980138166.3333335\n"
          ],
          "name": "stdout"
        }
      ]
    },
    {
      "cell_type": "markdown",
      "metadata": {
        "id": "RzRKVNuOUvSe",
        "colab_type": "text"
      },
      "source": [
        "Add name and salary {name:salary} for n number of employees through keyboard in a dictionary and print only the employees whose salary is greater than 2000 but less than 4000"
      ]
    },
    {
      "cell_type": "code",
      "metadata": {
        "id": "laQ542agUy2t",
        "colab_type": "code",
        "colab": {
          "base_uri": "https://localhost:8080/",
          "height": 153
        },
        "outputId": "412d1ce7-b25e-4806-e5f4-ce000fbde082"
      },
      "source": [
        "def inp():\n",
        "  name = input('Enter Name : ')\n",
        "  salary = int(input('Enter Salary : '))\n",
        "  if 2000 < salary < 4000: \n",
        "    return (name,salary)\n",
        "  return None\n",
        "\n",
        "d = {}\n",
        "n = int(input('Enter No of Employees : '))\n",
        "for x in range(n):\n",
        "  k = inp()\n",
        "  if k != None:\n",
        "    d[k[0]] = k[1]\n",
        "  \n",
        "print(d)"
      ],
      "execution_count": null,
      "outputs": [
        {
          "output_type": "stream",
          "text": [
            "Enter No of Employees : 3\n",
            "Enter Name : emp666\n",
            "Enter Salary : 9999999999\n",
            "Enter Name : emp007\n",
            "Enter Salary : 9999999999\n",
            "Enter Name : m16\n",
            "Enter Salary : 3000\n",
            "{'m16': 3000}\n"
          ],
          "name": "stdout"
        }
      ]
    },
    {
      "cell_type": "markdown",
      "metadata": {
        "id": "X_u8UF3AUzTB",
        "colab_type": "text"
      },
      "source": [
        "Python program to convert a 3 digit number  into words"
      ]
    },
    {
      "cell_type": "code",
      "metadata": {
        "id": "ZWsR-H51U3o5",
        "colab_type": "code",
        "colab": {}
      },
      "source": [
        "## Partially Working \n",
        "\n",
        "d = {1:'One',2:'Two',3:'Three',4:'Four',5:'Five',6:'Six',7:'Seven',8:'Eight',9:'Nine'}\n",
        "d2 = {1:'Ten',2:'Twenty',3:'Thirty',4:'Forty',5:'Fifty',6:'Sixty',7:'Seventy',8:'Eighty',9:'Ninty'}\n",
        "d3 = {2:'Tens',3:'Hundred',4:'Thousands'} \n",
        "\n",
        "i = int(input('Enter The Number : '))\n",
        "a = len(str(i))\n",
        "j = int(str(i)[0])\n",
        "if j !=0 :\n",
        "  s = d[j]\n",
        "s = s + ' ' + d3[a]\n",
        "i = int(str(i)[1:])\n",
        "print(s,i)\n",
        "\n",
        "\n",
        "j = int(str(i)[0])\n",
        "if j !=0:\n",
        "  #s = s + ' ' + d2[j]\n",
        "  if len(str(i))>1:\n",
        "    i = int(str(i)[1:])\n",
        "  else:\n",
        "    i = int(str(i)[0:])\n",
        "print(s,i)\n",
        "\n",
        "\n",
        "\n",
        "if i!=0:\n",
        "  s = s + ' ' + d[i]\n",
        "print(s)\n",
        " "
      ],
      "execution_count": null,
      "outputs": []
    },
    {
      "cell_type": "code",
      "metadata": {
        "id": "h10-Up2vngt5",
        "colab_type": "code",
        "colab": {
          "base_uri": "https://localhost:8080/",
          "height": 122
        },
        "outputId": "70cbd2f6-6e67-49fc-cdb2-9ca4227a8c37"
      },
      "source": [
        "from google.colab import drive\n",
        "drive.mount('/content/drive')"
      ],
      "execution_count": null,
      "outputs": [
        {
          "output_type": "stream",
          "text": [
            "Go to this URL in a browser: https://accounts.google.com/o/oauth2/auth?client_id=947318989803-6bn6qk8qdgf4n4g3pfee6491hc0brc4i.apps.googleusercontent.com&redirect_uri=urn%3aietf%3awg%3aoauth%3a2.0%3aoob&response_type=code&scope=email%20https%3a%2f%2fwww.googleapis.com%2fauth%2fdocs.test%20https%3a%2f%2fwww.googleapis.com%2fauth%2fdrive%20https%3a%2f%2fwww.googleapis.com%2fauth%2fdrive.photos.readonly%20https%3a%2f%2fwww.googleapis.com%2fauth%2fpeopleapi.readonly\n",
            "\n",
            "Enter your authorization code:\n",
            "··········\n",
            "Mounted at /content/drive\n"
          ],
          "name": "stdout"
        }
      ]
    },
    {
      "cell_type": "markdown",
      "metadata": {
        "id": "iAldHs_qVBRI",
        "colab_type": "text"
      },
      "source": [
        "Python Program to count the total number of charaters (except blank space) in a text file."
      ]
    },
    {
      "cell_type": "code",
      "metadata": {
        "id": "U5AwG65-VCI5",
        "colab_type": "code",
        "colab": {
          "base_uri": "https://localhost:8080/",
          "height": 34
        },
        "outputId": "a73fe089-d633-4721-bb99-2fd313466912"
      },
      "source": [
        "path = 'drive/My Drive/text.txt'\n",
        "with open(path,'r')as file:\n",
        "  totchar = 0\n",
        "  reader = file.read()\n",
        "  for line in reader:\n",
        "    if line != ' ':\n",
        "      totchar += 1\n",
        "  print(f'Total no of charecters : {totchar}')\n",
        "    "
      ],
      "execution_count": null,
      "outputs": [
        {
          "output_type": "stream",
          "text": [
            "Total no of charecters : 231816\n"
          ],
          "name": "stdout"
        }
      ]
    },
    {
      "cell_type": "markdown",
      "metadata": {
        "id": "JhdyO8KtVCf5",
        "colab_type": "text"
      },
      "source": [
        "Python Program to print all the numbers present in a text file with its total number of occurrence."
      ]
    },
    {
      "cell_type": "code",
      "metadata": {
        "id": "5eQcyuSGVGkj",
        "colab_type": "code",
        "colab": {
          "base_uri": "https://localhost:8080/",
          "height": 71
        },
        "outputId": "f1c9c27b-a713-4698-dbfb-a4f984a21377"
      },
      "source": [
        "path = 'drive/My Drive/text.txt'\n",
        "with open(path,'r')as file:\n",
        "  totchar = 0\n",
        "  reader = file.readlines()\n",
        "  numbers = []\n",
        "  for line in reader:\n",
        "    for word in line:\n",
        "      if word.isnumeric():\n",
        "        numbers.append(int(word))\n",
        "\n",
        "  print(f'All numbers : {numbers}')\n",
        "  collection = {}\n",
        "  for number in numbers:\n",
        "    if number not in collection.keys():\n",
        "      collection[number] = 1\n",
        "    else:\n",
        "      collection[number] += 1\n",
        "  print(f'Total Occurrence : {collection}')\n",
        "    "
      ],
      "execution_count": null,
      "outputs": [
        {
          "output_type": "stream",
          "text": [
            "All numbers : [2, 5, 2, 0, 0, 8, 1, 6, 1, 9, 9, 1, 1, 0, 2, 0, 1, 8, 8, 1, 9, 9, 1, 1, 2, 3, 4, 5, 6, 7, 8, 9, 1, 0, 1, 1, 1, 2, 1, 3, 1, 4, 1, 5, 1, 6, 1, 7, 1, 1, 4, 2, 2, 7, 2, 7, 2, 7, 3, 2, 7, 2, 7, 4, 5, 6, 7, 6, 3, 0, 4, 0, 1, 2, 3, 4, 8, 9, 1, 0, 1, 1, 1, 2, 1, 3, 1, 4, 1, 5, 1, 6, 2, 1, 1, 4, 1, 7, 1, 6, 0, 1, 6, 0, 1, 1, 6, 1, 1, 1, 8, 1, 1, 1, 1, 1, 1, 1, 1, 1, 2, 1, 1, 1, 7, 1, 8, 1, 9, 1, 3, 1, 1, 1, 7, 1, 4, 1, 5, 1, 1, 1, 6, 1, 1, 1, 7, 1, 8, 1, 9, 1, 8, 2, 0, 6, 0, 4, 3, 0, 1, 3, 9, 0, 1, 9, 3, 1, 1, 1, 1, 2, 1, 3, 3, 1, 3, 9, 0, 1, 4, 1, 3, 1, 5, 1, 6, 2, 2, 0, 0, 1, 3, 4, 3, 5, 0, 1, 3, 6, 4, 6, 2, 2, 1, 5, 4, 1, 5, 0, 1, 3, 4, 5, 5, 7, 9, 9, 7, 1, 2, 8, 0, 9, 1, 5, 0, 0, 8, 4, 1, 1, 6, 8, 0, 1, 5, 9, 6, 1, 8, 8, 7, 4, 1, 5, 0, 0, 0, 5, 0, 5, 2, 0, 0, 3, 1, 0, 0, 0, 0, 0, 6, 0, 5, 0, 4, 0, 3, 0, 2, 0, 1, 0, 0, 9, 9, 9, 8, 9, 7, 9, 6, 9, 5, 9, 4, 9, 3, 9, 2, 9, 2, 9, 1, 9, 0, 2, 0, 0, 3, 1, 0, 0, 0, 0, 1, 0, 2, 3, 4, 1, 0, 2, 3, 1, 0, 2, 3, 4, 2, 4, 6, 8, 9, 2, 4, 6, 8, 2, 4, 6, 8, 9]\n",
            "Total Occurrence : {2: 33, 5: 19, 0: 51, 8: 18, 1: 98, 6: 21, 9: 29, 3: 25, 4: 24, 7: 16}\n"
          ],
          "name": "stdout"
        }
      ]
    },
    {
      "cell_type": "markdown",
      "metadata": {
        "id": "aFkQnAKvVG7D",
        "colab_type": "text"
      },
      "source": [
        "Python Program to append the contents of one file to another file "
      ]
    },
    {
      "cell_type": "code",
      "metadata": {
        "id": "w02NoB_yVK2U",
        "colab_type": "code",
        "colab": {
          "base_uri": "https://localhost:8080/",
          "height": 357
        },
        "outputId": "24ca741b-4d08-4871-c284-e976e9ddce86"
      },
      "source": [
        "path = 'drive/My Drive/text.txt' # for Reading Only!\n",
        "path2 = 'drive/My Drive/new.txt' # for Writing Only!\n",
        "with open(path,'r')as file:\n",
        "  reader = file.readlines()\n",
        "  with open(path2,'w') as file2: # writing to file2\n",
        "    for line in reader:\n",
        "      file2.write(line) \n",
        "\n",
        "with open(path2,'r') as file2:   #Reopening file2 to check \n",
        "  reader = file2.readlines()\n",
        "  for i in range(10):\n",
        "    print(reader[i])"
      ],
      "execution_count": null,
      "outputs": [
        {
          "output_type": "stream",
          "text": [
            "The Project Gutenberg EBook of Peter Pan, by James M. Barrie\n",
            "\n",
            "\n",
            "\n",
            "This eBook is for the use of anyone anywhere at no cost and with\n",
            "\n",
            "almost no restrictions whatsoever.  You may copy it, give it away or\n",
            "\n",
            "re-use it under the terms of the Project Gutenberg License included\n",
            "\n",
            "with this eBook or online at www.gutenberg.org\n",
            "\n",
            "\n",
            "\n",
            "** This is a COPYRIGHTED Project Gutenberg eBook, Details Below **\n",
            "\n",
            "**     Please follow the copyright guidelines in this file.     **\n",
            "\n",
            "\n",
            "\n"
          ],
          "name": "stdout"
        }
      ]
    },
    {
      "cell_type": "markdown",
      "metadata": {
        "id": "Tth1eRMxVLM7",
        "colab_type": "text"
      },
      "source": [
        "Python Program to count the number of blank spaces in a text file. "
      ]
    },
    {
      "cell_type": "code",
      "metadata": {
        "id": "giArRYLPVQ8T",
        "colab_type": "code",
        "colab": {
          "base_uri": "https://localhost:8080/",
          "height": 34
        },
        "outputId": "f13387be-3c0b-453f-c35a-323c8c74d358"
      },
      "source": [
        "path = 'drive/My Drive/text.txt'\n",
        "with open(path,'r')as file:\n",
        "  totspace = 0\n",
        "  reader = file.read()\n",
        "  for line in reader:\n",
        "    if line == ' ':\n",
        "      totspace += 1\n",
        "  print(f'Total no of Spaces : {totspace}')"
      ],
      "execution_count": null,
      "outputs": [
        {
          "output_type": "stream",
          "text": [
            "Total no of Spaces : 46375\n"
          ],
          "name": "stdout"
        }
      ]
    },
    {
      "cell_type": "markdown",
      "metadata": {
        "id": "pf2sghFaVUBN",
        "colab_type": "text"
      },
      "source": [
        "Python Program to read a file and capitalize the first letter of every word in the file and copy the every word capitalized content  into another file and read it ."
      ]
    },
    {
      "cell_type": "code",
      "metadata": {
        "id": "Ja2Kh9dwVU41",
        "colab_type": "code",
        "colab": {
          "base_uri": "https://localhost:8080/",
          "height": 357
        },
        "outputId": "a57b7452-3535-4eef-a629-99b78183a99d"
      },
      "source": [
        "path = 'drive/My Drive/text.txt' # for Reading Only!\n",
        "path2 = 'drive/My Drive/new.txt' # for Writing Only!\n",
        "with open(path,'r')as file:\n",
        "  reader = file.readlines()\n",
        "  with open(path2,'w') as file2: \n",
        "    for line in reader:\n",
        "      modline = ''\n",
        "      wordlist = []\n",
        "      \n",
        "      wordlist.append(line.title())\n",
        "      modline = modline.join(wordlist)\n",
        "      \n",
        "      file2.write(modline)       # writing to file2\n",
        "\n",
        "with open(path2,'r') as file2:   #Reopening file2 to check \n",
        "  reader = file2.readlines()\n",
        "  for i in range(10):\n",
        "    print(reader[i])"
      ],
      "execution_count": null,
      "outputs": [
        {
          "output_type": "stream",
          "text": [
            "The Project Gutenberg Ebook Of Peter Pan, By James M. Barrie\n",
            "\n",
            "\n",
            "\n",
            "This Ebook Is For The Use Of Anyone Anywhere At No Cost And With\n",
            "\n",
            "Almost No Restrictions Whatsoever.  You May Copy It, Give It Away Or\n",
            "\n",
            "Re-Use It Under The Terms Of The Project Gutenberg License Included\n",
            "\n",
            "With This Ebook Or Online At Www.Gutenberg.Org\n",
            "\n",
            "\n",
            "\n",
            "** This Is A Copyrighted Project Gutenberg Ebook, Details Below **\n",
            "\n",
            "**     Please Follow The Copyright Guidelines In This File.     **\n",
            "\n",
            "\n",
            "\n"
          ],
          "name": "stdout"
        }
      ]
    },
    {
      "cell_type": "code",
      "metadata": {
        "id": "vbgmnr9XvTEi",
        "colab_type": "code",
        "colab": {}
      },
      "source": [
        ""
      ],
      "execution_count": null,
      "outputs": []
    }
  ]
}