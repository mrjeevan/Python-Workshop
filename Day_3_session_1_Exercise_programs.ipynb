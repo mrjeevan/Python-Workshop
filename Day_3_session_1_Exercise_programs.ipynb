{
  "nbformat": 4,
  "nbformat_minor": 0,
  "metadata": {
    "colab": {
      "name": "Day 3  session 1   Exercise programs",
      "provenance": [],
      "collapsed_sections": [],
      "authorship_tag": "ABX9TyP52MlA0audDVHvuAxwaOCN",
      "include_colab_link": true
    },
    "kernelspec": {
      "name": "python3",
      "display_name": "Python 3"
    }
  },
  "cells": [
    {
      "cell_type": "markdown",
      "metadata": {
        "id": "view-in-github",
        "colab_type": "text"
      },
      "source": [
        "<a href=\"https://colab.research.google.com/github/mrjeevan/Python-Workshop/blob/master/Day_3_session_1_Exercise_programs.ipynb\" target=\"_parent\"><img src=\"https://colab.research.google.com/assets/colab-badge.svg\" alt=\"Open In Colab\"/></a>"
      ]
    },
    {
      "cell_type": "markdown",
      "metadata": {
        "id": "RR-fMFofXhF6",
        "colab_type": "text"
      },
      "source": [
        "Write a Python Program to Print Multiplication Table of a  number which got through keyboard."
      ]
    },
    {
      "cell_type": "code",
      "metadata": {
        "id": "LzJH5ELcXotn",
        "colab_type": "code",
        "colab": {
          "base_uri": "https://localhost:8080/",
          "height": 204
        },
        "outputId": "f26d612e-696d-4d0e-f4d5-3a4ab6e6f76f"
      },
      "source": [
        "n = int(input('Enter number : '))\n",
        "for x in range(1,11):\n",
        "  print(f'{n} x {x} = {n*x}')\n"
      ],
      "execution_count": 8,
      "outputs": [
        {
          "output_type": "stream",
          "text": [
            "Enter number : 21\n",
            "21 x 1 = 21\n",
            "21 x 2 = 42\n",
            "21 x 3 = 63\n",
            "21 x 4 = 84\n",
            "21 x 5 = 105\n",
            "21 x 6 = 126\n",
            "21 x 7 = 147\n",
            "21 x 8 = 168\n",
            "21 x 9 = 189\n",
            "21 x 10 = 210\n"
          ],
          "name": "stdout"
        }
      ]
    },
    {
      "cell_type": "markdown",
      "metadata": {
        "id": "AjPBjhFyXpEt",
        "colab_type": "text"
      },
      "source": [
        "Write a  Python Program to find the Armstrong Numbers between 1 and 2000 ( i.e 153 is amtrong numbers as 1**3+5**3+3**3=153 )"
      ]
    },
    {
      "cell_type": "code",
      "metadata": {
        "id": "7D1eLFPgXuNC",
        "colab_type": "code",
        "colab": {
          "base_uri": "https://localhost:8080/",
          "height": 255
        },
        "outputId": "ab503c71-1bde-427e-f435-b271746be8a5"
      },
      "source": [
        "def isArm(n):\n",
        "  s = str(n)\n",
        "  l = len(s)\n",
        "  n1 = 0\n",
        "  for x in s:\n",
        "    n1 += int(x)**int(l)\n",
        "  return n1 == n\n",
        "\n",
        "for x in range(1,2001):\n",
        "  if isArm(x):\n",
        "    print(x)"
      ],
      "execution_count": 12,
      "outputs": [
        {
          "output_type": "stream",
          "text": [
            "1\n",
            "2\n",
            "3\n",
            "4\n",
            "5\n",
            "6\n",
            "7\n",
            "8\n",
            "9\n",
            "153\n",
            "370\n",
            "371\n",
            "407\n",
            "1634\n"
          ],
          "name": "stdout"
        }
      ]
    },
    {
      "cell_type": "markdown",
      "metadata": {
        "id": "WQlSctn4XujW",
        "colab_type": "text"
      },
      "source": [
        "Write a python program to get the list of tuples (rollno, name) for n students by getting rollno and name through keyboard. Sort and print  them as rollno wise and name wise both ascending and descending as well as alphabetical and dealphabetical orders"
      ]
    },
    {
      "cell_type": "code",
      "metadata": {
        "id": "jIp-RmEEXu3j",
        "colab_type": "code",
        "colab": {
          "base_uri": "https://localhost:8080/",
          "height": 663
        },
        "outputId": "26e8fd22-afd7-4c7e-a236-32126066c239"
      },
      "source": [
        "def inp():\n",
        "  name = input('Enter Name : ')\n",
        "  rolno = int(input('Enter Rolno : '))\n",
        "  \n",
        "  return (name,rolno)\n",
        "\n",
        "d = {}\n",
        "n = int(input('Enter No of Students : '))\n",
        "for x in range(n):\n",
        "  n,s = inp()\n",
        "  d[n] = s\n",
        "\n",
        "keys = sorted(d.keys())\n",
        "print('Ascending Order wrt name : ')\n",
        "for key in keys:\n",
        "  print(f'{key} : {d[key]}')\n",
        "\n",
        "print('\\nDesending Order wrt name : ')\n",
        "for key in keys[::-1]:\n",
        "  print(f'{key} : {d[key]}')\n",
        "\n",
        "keys = sorted(d.keys(),key = lambda x:d[x])\n",
        "print('\\nAscending Order wrt rolno : ')\n",
        "for key in keys:\n",
        "  print(f'{key} : {d[key]}')\n",
        "\n",
        "print('\\nDesending Order wrt rolno : ')\n",
        "for key in keys[::-1]:\n",
        "  print(f'{key} : {d[key]}')"
      ],
      "execution_count": 20,
      "outputs": [
        {
          "output_type": "stream",
          "text": [
            "Enter No of Students : 5\n",
            "Enter Name : a\n",
            "Enter Rolno : 1\n",
            "Enter Name : z\n",
            "Enter Rolno : 26\n",
            "Enter Name : t\n",
            "Enter Rolno : 20\n",
            "Enter Name : b\n",
            "Enter Rolno : 2\n",
            "Enter Name : f\n",
            "Enter Rolno : 6\n",
            "Ascending Order wrt name : \n",
            "a : 1\n",
            "b : 2\n",
            "f : 6\n",
            "t : 20\n",
            "z : 26\n",
            "\n",
            "Desending Order wrt name : \n",
            "z : 26\n",
            "t : 20\n",
            "f : 6\n",
            "b : 2\n",
            "a : 1\n",
            "\n",
            "Ascending Order wrt rolno : \n",
            "a : 1\n",
            "b : 2\n",
            "f : 6\n",
            "t : 20\n",
            "z : 26\n",
            "\n",
            "Desending Order wrt rolno : \n",
            "z : 26\n",
            "t : 20\n",
            "f : 6\n",
            "b : 2\n",
            "a : 1\n"
          ],
          "name": "stdout"
        }
      ]
    },
    {
      "cell_type": "markdown",
      "metadata": {
        "id": "LQN2CDc4XvPm",
        "colab_type": "text"
      },
      "source": [
        "Python Program to Detect if Two Strings are Anagrams ( They are  the two strings which have same length and same words which may be different in their order)\n"
      ]
    },
    {
      "cell_type": "code",
      "metadata": {
        "id": "DThyQ7VMXvwI",
        "colab_type": "code",
        "colab": {
          "base_uri": "https://localhost:8080/",
          "height": 68
        },
        "outputId": "0e5291bd-5e26-4775-a232-612df800e0b1"
      },
      "source": [
        "def check(s1, s2): \n",
        "      \n",
        "    # the sorted strings are checked  \n",
        "    if(sorted(s1)== sorted(s2)): \n",
        "        print(\"The strings are anagrams.\")  \n",
        "    else: \n",
        "        print(\"The strings aren't anagrams.\")          \n",
        "          \n",
        "# driver code   \n",
        "s1 = input('Enter String 1 : ').replace(\" \",\"\")\n",
        "s2 = input('Enter String 2 : ').replace(\" \",\"\")\n",
        "check(s1, s2) "
      ],
      "execution_count": 6,
      "outputs": [
        {
          "output_type": "stream",
          "text": [
            "Enter String 1 : hell o world\n",
            "Enter String 2 : hello world\n",
            "The strings are anagrams.\n"
          ],
          "name": "stdout"
        }
      ]
    },
    {
      "cell_type": "code",
      "metadata": {
        "id": "ZFbhrF3MYimt",
        "colab_type": "code",
        "colab": {}
      },
      "source": [
        ""
      ],
      "execution_count": null,
      "outputs": []
    }
  ]
}