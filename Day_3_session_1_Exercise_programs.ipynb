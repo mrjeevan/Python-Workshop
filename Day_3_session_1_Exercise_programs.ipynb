{
  "nbformat": 4,
  "nbformat_minor": 0,
  "metadata": {
    "colab": {
      "name": "Day 3 session 1 Exercise programs",
      "provenance": [],
      "authorship_tag": "ABX9TyP3B2QirOeejGeDRgK1h5n8",
      "include_colab_link": true
    },
    "kernelspec": {
      "name": "python3",
      "display_name": "Python 3"
    }
  },
  "cells": [
    {
      "cell_type": "markdown",
      "metadata": {
        "id": "view-in-github",
        "colab_type": "text"
      },
      "source": [
        "<a href=\"https://colab.research.google.com/github/mrjeevan/Python-Workshop/blob/master/Day_3_session_1_Exercise_programs.ipynb\" target=\"_parent\"><img src=\"https://colab.research.google.com/assets/colab-badge.svg\" alt=\"Open In Colab\"/></a>"
      ]
    },
    {
      "cell_type": "markdown",
      "metadata": {
        "id": "QGgqGhKnQ0of",
        "colab_type": "text"
      },
      "source": [
        "Write a Python program to find numbers between 100 and 400 (both included) which are divisable both by 5 or 7. The numbers obtained should be printed in a comma-separated sequence"
      ]
    },
    {
      "cell_type": "code",
      "metadata": {
        "id": "8VUixx8vQ83u",
        "colab_type": "code",
        "colab": {
          "base_uri": "https://localhost:8080/",
          "height": 54
        },
        "outputId": "26a9d7ec-cb13-4034-eaf7-bebdfa6cb6de"
      },
      "source": [
        "s = ''\n",
        "for x in range(100,401):\n",
        "  if x % 5 == 0 or x % 7 == 0:\n",
        "    s += str(x)+','\n",
        "\n",
        "print(s[:-1:])"
      ],
      "execution_count": 2,
      "outputs": [
        {
          "output_type": "stream",
          "text": [
            "100,105,110,112,115,119,120,125,126,130,133,135,140,145,147,150,154,155,160,161,165,168,170,175,180,182,185,189,190,195,196,200,203,205,210,215,217,220,224,225,230,231,235,238,240,245,250,252,255,259,260,265,266,270,273,275,280,285,287,290,294,295,300,301,305,308,310,315,320,322,325,329,330,335,336,340,343,345,350,355,357,360,364,365,370,371,375,378,380,385,390,392,395,399,400\n"
          ],
          "name": "stdout"
        }
      ]
    },
    {
      "cell_type": "markdown",
      "metadata": {
        "id": "q47nE2-gQ9SN",
        "colab_type": "text"
      },
      "source": [
        "Write a Python program to find  prime numbers between 200 and 600 (both included). The numbers obtained should be printed in a comma-separated sequence\n"
      ]
    },
    {
      "cell_type": "code",
      "metadata": {
        "id": "2nOMKF7GRBfd",
        "colab_type": "code",
        "colab": {
          "base_uri": "https://localhost:8080/",
          "height": 54
        },
        "outputId": "5297977d-75bd-4ea0-f6f7-efb60d1849cb"
      },
      "source": [
        "from math import sqrt\n",
        "def primegen(a,b):\n",
        "  prime = ''\n",
        "  l_limit = a\n",
        "  u_limit = b\n",
        "  if l_limit > u_limit:\n",
        "    raise Exception('Lower limit cannot be greater than upper limit.')\n",
        "  flag = False\n",
        "  for i in range(l_limit, u_limit+1):\n",
        "    flag = 0\n",
        "    for j in range(2, int(sqrt(i))+1):\n",
        "      if i % j == 0:\n",
        "        flag = 1\n",
        "        break\n",
        "    if flag == 0:\n",
        "        prime += str(i)+','\n",
        "  return(prime)\n",
        "\n",
        "print(primegen(200,600)[:-1:])"
      ],
      "execution_count": 8,
      "outputs": [
        {
          "output_type": "stream",
          "text": [
            "211,223,227,229,233,239,241,251,257,263,269,271,277,281,283,293,307,311,313,317,331,337,347,349,353,359,367,373,379,383,389,397,401,409,419,421,431,433,439,443,449,457,461,463,467,479,487,491,499,503,509,521,523,541,547,557,563,569,571,577,587,593,599\n"
          ],
          "name": "stdout"
        }
      ]
    },
    {
      "cell_type": "markdown",
      "metadata": {
        "id": "yHwq46pZRB-F",
        "colab_type": "text"
      },
      "source": [
        "Write a Python program to find All Numbers which are Odd and Palindromes Between a Range of Numbers without using Recursion. The numbers obtained should be printed in a comma-separated sequence"
      ]
    },
    {
      "cell_type": "code",
      "metadata": {
        "id": "-262FNOzRFzQ",
        "colab_type": "code",
        "colab": {
          "base_uri": "https://localhost:8080/",
          "height": 88
        },
        "outputId": "8c77064d-eddf-42a7-841a-8c41bd542cf1"
      },
      "source": [
        "def PalAndOdd(n):\n",
        "  if n %2 != 0 and str(n) == str(n)[::-1]:\n",
        "    return True\n",
        "  return False\n",
        "\n",
        "req = ''\n",
        "U_limit = int(input('Upper Limit : '))\n",
        "L_limit = int(input('Lower Limit : '))\n",
        "\n",
        "for x in range(L_limit,U_limit):\n",
        "  if PalAndOdd(x):\n",
        "    req += str(x) + ','\n",
        "\n",
        "print(req[:-1:])    \n"
      ],
      "execution_count": 10,
      "outputs": [
        {
          "output_type": "stream",
          "text": [
            "Upper Limit : 9999\n",
            "Lower Limit : 0\n",
            "1,3,5,7,9,11,33,55,77,99,101,111,121,131,141,151,161,171,181,191,303,313,323,333,343,353,363,373,383,393,505,515,525,535,545,555,565,575,585,595,707,717,727,737,747,757,767,777,787,797,909,919,929,939,949,959,969,979,989,999,1001,1111,1221,1331,1441,1551,1661,1771,1881,1991,3003,3113,3223,3333,3443,3553,3663,3773,3883,3993,5005,5115,5225,5335,5445,5555,5665,5775,5885,5995,7007,7117,7227,7337,7447,7557,7667,7777,7887,7997,9009,9119,9229,9339,9449,9559,9669,9779,9889\n"
          ],
          "name": "stdout"
        }
      ]
    },
    {
      "cell_type": "markdown",
      "metadata": {
        "id": "SU6r1p2WRGM_",
        "colab_type": "text"
      },
      "source": [
        "Write a Python Program to read a number n and print the series “5+10+…..+n = sum upto n ” . The numbers should be printed  as they are  shown in the quotes with sum of numbers upto n "
      ]
    },
    {
      "cell_type": "code",
      "metadata": {
        "id": "lSGIGHgcRLPV",
        "colab_type": "code",
        "colab": {
          "base_uri": "https://localhost:8080/",
          "height": 51
        },
        "outputId": "bbfa403c-737e-4051-c58e-b1820f95ea21"
      },
      "source": [
        "n = int(input(\"Enter Number : \"))\n",
        "s = 0\n",
        "req = ''\n",
        "for x in range(5,n+5,5):\n",
        "  s += x\n",
        "  req += str(x) + '+'\n",
        "\n",
        "print(f'{req[:-1:]} = {s}')"
      ],
      "execution_count": 12,
      "outputs": [
        {
          "output_type": "stream",
          "text": [
            "Enter Number : 100\n",
            "5+10+15+20+25+30+35+40+45+50+55+60+65+70+75+80+85+90+95+100 = 1050\n"
          ],
          "name": "stdout"
        }
      ]
    },
    {
      "cell_type": "markdown",
      "metadata": {
        "id": "4GBVfz3gRPh4",
        "colab_type": "text"
      },
      "source": [
        ""
      ]
    }
  ]
}